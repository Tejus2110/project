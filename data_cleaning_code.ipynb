{
 "cells": [
  {
   "cell_type": "code",
   "execution_count": 1,
   "id": "19b48665-2e47-4656-b2a2-8cb6c8ddf6a6",
   "metadata": {},
   "outputs": [],
   "source": [
    "import pandas as pd \n",
    "import numpy as np"
   ]
  },
  {
   "cell_type": "code",
   "execution_count": 2,
   "id": "d914e107-eaf0-4fa2-a913-c455e870d1bb",
   "metadata": {},
   "outputs": [
    {
     "data": {
      "text/plain": [
       "(4894, 16)"
      ]
     },
     "execution_count": 2,
     "metadata": {},
     "output_type": "execute_result"
    }
   ],
   "source": [
    "df = pd.read_excel('cloud_counselage_dataset.xlsx')\n",
    "df.shape"
   ]
  },
  {
   "cell_type": "markdown",
   "id": "f089c2de-8765-4992-9140-9ff70f57c8bc",
   "metadata": {},
   "source": [
    "# DATA CLEANING"
   ]
  },
  {
   "cell_type": "code",
   "execution_count": 3,
   "id": "5d29d350-8ef8-4d8f-a424-be9bf2b6c738",
   "metadata": {},
   "outputs": [
    {
     "data": {
      "text/plain": [
       "Index(['first name', 'email id', 'quantity', 'events', 'attendee status',\n",
       "       'college name', 'how did you come to know about this event?',\n",
       "       'specify in \"others\" (how did you come to know about this event)',\n",
       "       'designation', 'year of graduation', 'city', 'cgpa',\n",
       "       'experience with python (months)', 'family income',\n",
       "       'expected salary (lac)', 'leadership- skills'],\n",
       "      dtype='object')"
      ]
     },
     "execution_count": 3,
     "metadata": {},
     "output_type": "execute_result"
    }
   ],
   "source": [
    "df.columns = df.columns.str.lower()\n",
    "df.columns"
   ]
  },
  {
   "cell_type": "code",
   "execution_count": 4,
   "id": "517ce90d-9dfe-40fb-9d86-23bf3fe8c723",
   "metadata": {},
   "outputs": [
    {
     "data": {
      "text/plain": [
       "first name                                                            0\n",
       "email id                                                              0\n",
       "quantity                                                              0\n",
       "events                                                                0\n",
       "attendee status                                                       0\n",
       "college name                                                         15\n",
       "how did you come to know about this event?                         2216\n",
       "specify in \"others\" (how did you come to know about this event)    4805\n",
       "designation                                                           0\n",
       "year of graduation                                                    0\n",
       "city                                                                  0\n",
       "cgpa                                                                  0\n",
       "experience with python (months)                                       0\n",
       "family income                                                         0\n",
       "expected salary (lac)                                                 0\n",
       "leadership- skills                                                    0\n",
       "dtype: int64"
      ]
     },
     "execution_count": 4,
     "metadata": {},
     "output_type": "execute_result"
    }
   ],
   "source": [
    "# checking the null values for each columns\n",
    "null_values = df.isnull().sum()\n",
    "null_values"
   ]
  },
  {
   "cell_type": "markdown",
   "id": "03c9da64-2b40-4b4f-b0e5-4483173a8319",
   "metadata": {},
   "source": [
    "## Dropping rows where college name is null"
   ]
  },
  {
   "cell_type": "code",
   "execution_count": 5,
   "id": "7261c3f5-641e-4bff-88b3-0e46c1a9b1ff",
   "metadata": {},
   "outputs": [],
   "source": [
    "index_values = df[df['college name'].isnull()].index\n",
    "df.drop(index_values , inplace = True)"
   ]
  },
  {
   "cell_type": "code",
   "execution_count": 6,
   "id": "f0c717d5-cf7f-4baa-ac00-435d66c28cdd",
   "metadata": {},
   "outputs": [],
   "source": [
    "df_new = df.copy()\n",
    "# i have dropped the rows where college name is null - so some indexes will be missing so i will reset the index so that loops can be ran properly.\n",
    "df_new.reset_index(inplace =True , drop = True)"
   ]
  },
  {
   "cell_type": "code",
   "execution_count": 7,
   "id": "3516ce98-1a0d-4a02-8465-a3b9f178a01b",
   "metadata": {},
   "outputs": [
    {
     "data": {
      "text/plain": [
       "(2215, 16)"
      ]
     },
     "execution_count": 7,
     "metadata": {},
     "output_type": "execute_result"
    }
   ],
   "source": [
    "test_one = df[df['how did you come to know about this event?'].isnull()\n",
    "& df['specify in \"others\" (how did you come to know about this event)'].isnull()]\n",
    "test_one.shape"
   ]
  },
  {
   "cell_type": "code",
   "execution_count": 8,
   "id": "916511b9-7fef-452b-872c-7ab75218a29f",
   "metadata": {},
   "outputs": [
    {
     "data": {
      "text/plain": [
       "(2215, 16)"
      ]
     },
     "execution_count": 8,
     "metadata": {},
     "output_type": "execute_result"
    }
   ],
   "source": [
    "# so total 2215 rows are there where the column - how did you come to know about this event? is null \n",
    "test = df[df['how did you come to know about this event?'].isnull()]\n",
    "test.shape"
   ]
  },
  {
   "cell_type": "code",
   "execution_count": 9,
   "id": "6c27e1a9-116d-4e0c-a224-4a76de0f5451",
   "metadata": {},
   "outputs": [
    {
     "data": {
      "text/plain": [
       "how did you come to know about this event?\n",
       "Whatsapp                                                                        1064\n",
       "Email                                                                            432\n",
       "SPOC/ College Professor                                                          325\n",
       "Others                                                                           153\n",
       "Cloud Counselage Website                                                         128\n",
       "                                                                                ... \n",
       "Facebook | Instagram | Whatsapp | Email                                            1\n",
       "Whatsapp | Cloud Counselage Website | Others                                       1\n",
       "Youtube | Facebook | Instagram | LinkedIn | Email | Cloud Counselage Website       1\n",
       "Youtube | Instagram | Whatsapp | Email | Cloud Counselage Website                  1\n",
       "Youtube | Whatsapp | Cloud Counselage Website                                      1\n",
       "Name: count, Length: 98, dtype: int64"
      ]
     },
     "execution_count": 9,
     "metadata": {},
     "output_type": "execute_result"
    }
   ],
   "source": [
    "df_new['how did you come to know about this event?'].value_counts().sort_values(ascending= False)"
   ]
  },
  {
   "cell_type": "code",
   "execution_count": 10,
   "id": "af594caa-d795-4e59-a2f3-a1dfa752ba4d",
   "metadata": {},
   "outputs": [
    {
     "data": {
      "text/html": [
       "<div>\n",
       "<style scoped>\n",
       "    .dataframe tbody tr th:only-of-type {\n",
       "        vertical-align: middle;\n",
       "    }\n",
       "\n",
       "    .dataframe tbody tr th {\n",
       "        vertical-align: top;\n",
       "    }\n",
       "\n",
       "    .dataframe thead th {\n",
       "        text-align: right;\n",
       "    }\n",
       "</style>\n",
       "<table border=\"1\" class=\"dataframe\">\n",
       "  <thead>\n",
       "    <tr style=\"text-align: right;\">\n",
       "      <th></th>\n",
       "      <th>first name</th>\n",
       "      <th>email id</th>\n",
       "      <th>quantity</th>\n",
       "      <th>events</th>\n",
       "      <th>attendee status</th>\n",
       "      <th>college name</th>\n",
       "      <th>how did you come to know about this event?</th>\n",
       "      <th>specify in \"others\" (how did you come to know about this event)</th>\n",
       "      <th>designation</th>\n",
       "      <th>year of graduation</th>\n",
       "      <th>city</th>\n",
       "      <th>cgpa</th>\n",
       "      <th>experience with python (months)</th>\n",
       "      <th>family income</th>\n",
       "      <th>expected salary (lac)</th>\n",
       "      <th>leadership- skills</th>\n",
       "    </tr>\n",
       "  </thead>\n",
       "  <tbody>\n",
       "    <tr>\n",
       "      <th>0</th>\n",
       "      <td>ANIKET</td>\n",
       "      <td>aniket@xyz.com</td>\n",
       "      <td>1</td>\n",
       "      <td>Art of Resume Building</td>\n",
       "      <td>Attending</td>\n",
       "      <td>D Y PATIL INSTITUTE OF MCA AND MANAGEMENT AKUR...</td>\n",
       "      <td>Email</td>\n",
       "      <td>NaN</td>\n",
       "      <td>Students</td>\n",
       "      <td>2024</td>\n",
       "      <td>Patna</td>\n",
       "      <td>6.7</td>\n",
       "      <td>7</td>\n",
       "      <td>7 Lakh+</td>\n",
       "      <td>6</td>\n",
       "      <td>yes</td>\n",
       "    </tr>\n",
       "    <tr>\n",
       "      <th>1</th>\n",
       "      <td>Dhanshree</td>\n",
       "      <td>dhanshree@xyz.com</td>\n",
       "      <td>1</td>\n",
       "      <td>Art of Resume Building</td>\n",
       "      <td>Attending</td>\n",
       "      <td>AP SHAH INSTITUTE OF TECHNOLOGY</td>\n",
       "      <td>Others</td>\n",
       "      <td>College</td>\n",
       "      <td>Students</td>\n",
       "      <td>2024</td>\n",
       "      <td>Amravati</td>\n",
       "      <td>8.2</td>\n",
       "      <td>3</td>\n",
       "      <td>0-2 Lakh</td>\n",
       "      <td>7</td>\n",
       "      <td>no</td>\n",
       "    </tr>\n",
       "    <tr>\n",
       "      <th>2</th>\n",
       "      <td>Dhiraj</td>\n",
       "      <td>dhiraj@xyz.com</td>\n",
       "      <td>1</td>\n",
       "      <td>Art of Resume Building</td>\n",
       "      <td>Attending</td>\n",
       "      <td>Don Bosco College of Engineering Fatorda Goa</td>\n",
       "      <td>Email</td>\n",
       "      <td>NaN</td>\n",
       "      <td>Students</td>\n",
       "      <td>2023</td>\n",
       "      <td>Kunrool</td>\n",
       "      <td>6.5</td>\n",
       "      <td>4</td>\n",
       "      <td>5-7 Lakh</td>\n",
       "      <td>7</td>\n",
       "      <td>no</td>\n",
       "    </tr>\n",
       "    <tr>\n",
       "      <th>3</th>\n",
       "      <td>Pooja</td>\n",
       "      <td>pooja@xyz.com</td>\n",
       "      <td>1</td>\n",
       "      <td>Art of Resume Building</td>\n",
       "      <td>Attending</td>\n",
       "      <td>Pillai College of Engineering New Panvel</td>\n",
       "      <td>Email</td>\n",
       "      <td>NaN</td>\n",
       "      <td>Students</td>\n",
       "      <td>2025</td>\n",
       "      <td>Tirupati</td>\n",
       "      <td>8.7</td>\n",
       "      <td>7</td>\n",
       "      <td>2-5 Lakh</td>\n",
       "      <td>8</td>\n",
       "      <td>no</td>\n",
       "    </tr>\n",
       "    <tr>\n",
       "      <th>4</th>\n",
       "      <td>Aayush</td>\n",
       "      <td>aayush@xyz.com</td>\n",
       "      <td>1</td>\n",
       "      <td>Art of Resume Building</td>\n",
       "      <td>Attending</td>\n",
       "      <td>St Xavier's College</td>\n",
       "      <td>Instagram</td>\n",
       "      <td>NaN</td>\n",
       "      <td>Students</td>\n",
       "      <td>2024</td>\n",
       "      <td>Vijaywada</td>\n",
       "      <td>9.1</td>\n",
       "      <td>3</td>\n",
       "      <td>0-2 Lakh</td>\n",
       "      <td>10</td>\n",
       "      <td>yes</td>\n",
       "    </tr>\n",
       "    <tr>\n",
       "      <th>...</th>\n",
       "      <td>...</td>\n",
       "      <td>...</td>\n",
       "      <td>...</td>\n",
       "      <td>...</td>\n",
       "      <td>...</td>\n",
       "      <td>...</td>\n",
       "      <td>...</td>\n",
       "      <td>...</td>\n",
       "      <td>...</td>\n",
       "      <td>...</td>\n",
       "      <td>...</td>\n",
       "      <td>...</td>\n",
       "      <td>...</td>\n",
       "      <td>...</td>\n",
       "      <td>...</td>\n",
       "      <td>...</td>\n",
       "    </tr>\n",
       "    <tr>\n",
       "      <th>4874</th>\n",
       "      <td>Patel Niraj</td>\n",
       "      <td>patelniraj@xyz.com</td>\n",
       "      <td>1</td>\n",
       "      <td>The SDLC &amp; their transformations</td>\n",
       "      <td>Attending</td>\n",
       "      <td>thakur institute of management studies, career...</td>\n",
       "      <td>LinkedIn</td>\n",
       "      <td>NaN</td>\n",
       "      <td>Students</td>\n",
       "      <td>2024</td>\n",
       "      <td>Jodhpur</td>\n",
       "      <td>6.9</td>\n",
       "      <td>6</td>\n",
       "      <td>0-2 Lakh</td>\n",
       "      <td>15</td>\n",
       "      <td>yes</td>\n",
       "    </tr>\n",
       "    <tr>\n",
       "      <th>4875</th>\n",
       "      <td>VIDIT</td>\n",
       "      <td>vidit@xyz.com</td>\n",
       "      <td>1</td>\n",
       "      <td>Data Visualization using Power BI</td>\n",
       "      <td>Attending</td>\n",
       "      <td>government polytechnic gandhinagar</td>\n",
       "      <td>nan</td>\n",
       "      <td>NaN</td>\n",
       "      <td>Students</td>\n",
       "      <td>2023</td>\n",
       "      <td>Jalgaon</td>\n",
       "      <td>6.5</td>\n",
       "      <td>6</td>\n",
       "      <td>0-2 Lakh</td>\n",
       "      <td>8</td>\n",
       "      <td>no</td>\n",
       "    </tr>\n",
       "    <tr>\n",
       "      <th>4876</th>\n",
       "      <td>Suryaprakash</td>\n",
       "      <td>suryaprakash@xyz.com</td>\n",
       "      <td>1</td>\n",
       "      <td>Data Visualization using Power BI</td>\n",
       "      <td>Attending</td>\n",
       "      <td>vishwakarma institute of technology, pune</td>\n",
       "      <td>nan</td>\n",
       "      <td>NaN</td>\n",
       "      <td>Students</td>\n",
       "      <td>2024</td>\n",
       "      <td>Thane</td>\n",
       "      <td>6.9</td>\n",
       "      <td>5</td>\n",
       "      <td>0-2 Lakh</td>\n",
       "      <td>7</td>\n",
       "      <td>no</td>\n",
       "    </tr>\n",
       "    <tr>\n",
       "      <th>4877</th>\n",
       "      <td>Saif ali</td>\n",
       "      <td>saifali@xyz.com</td>\n",
       "      <td>1</td>\n",
       "      <td>Data Visualization using Power BI</td>\n",
       "      <td>Attending</td>\n",
       "      <td>mit academy of engineering ,alandi</td>\n",
       "      <td>nan</td>\n",
       "      <td>NaN</td>\n",
       "      <td>Students</td>\n",
       "      <td>2024</td>\n",
       "      <td>Patiala</td>\n",
       "      <td>9.0</td>\n",
       "      <td>3</td>\n",
       "      <td>0-2 Lakh</td>\n",
       "      <td>23</td>\n",
       "      <td>yes</td>\n",
       "    </tr>\n",
       "    <tr>\n",
       "      <th>4878</th>\n",
       "      <td>Lankesh</td>\n",
       "      <td>lankesh@xyz.com</td>\n",
       "      <td>1</td>\n",
       "      <td>Data Visualization using Power BI</td>\n",
       "      <td>Attending</td>\n",
       "      <td>a. c. patil college of engineering</td>\n",
       "      <td>nan</td>\n",
       "      <td>NaN</td>\n",
       "      <td>Students</td>\n",
       "      <td>2025</td>\n",
       "      <td>Sangrur</td>\n",
       "      <td>7.2</td>\n",
       "      <td>8</td>\n",
       "      <td>0-2 Lakh</td>\n",
       "      <td>9</td>\n",
       "      <td>yes</td>\n",
       "    </tr>\n",
       "  </tbody>\n",
       "</table>\n",
       "<p>4879 rows × 16 columns</p>\n",
       "</div>"
      ],
      "text/plain": [
       "        first name              email id  quantity  \\\n",
       "0           ANIKET        aniket@xyz.com         1   \n",
       "1        Dhanshree     dhanshree@xyz.com         1   \n",
       "2           Dhiraj        dhiraj@xyz.com         1   \n",
       "3            Pooja         pooja@xyz.com         1   \n",
       "4           Aayush        aayush@xyz.com         1   \n",
       "...            ...                   ...       ...   \n",
       "4874   Patel Niraj    patelniraj@xyz.com         1   \n",
       "4875         VIDIT         vidit@xyz.com         1   \n",
       "4876  Suryaprakash  suryaprakash@xyz.com         1   \n",
       "4877      Saif ali       saifali@xyz.com         1   \n",
       "4878       Lankesh       lankesh@xyz.com         1   \n",
       "\n",
       "                                 events attendee status  \\\n",
       "0                Art of Resume Building       Attending   \n",
       "1                Art of Resume Building       Attending   \n",
       "2                Art of Resume Building       Attending   \n",
       "3                Art of Resume Building       Attending   \n",
       "4                Art of Resume Building       Attending   \n",
       "...                                 ...             ...   \n",
       "4874   The SDLC & their transformations       Attending   \n",
       "4875  Data Visualization using Power BI       Attending   \n",
       "4876  Data Visualization using Power BI       Attending   \n",
       "4877  Data Visualization using Power BI       Attending   \n",
       "4878  Data Visualization using Power BI       Attending   \n",
       "\n",
       "                                           college name  \\\n",
       "0     D Y PATIL INSTITUTE OF MCA AND MANAGEMENT AKUR...   \n",
       "1                      AP SHAH INSTITUTE OF TECHNOLOGY    \n",
       "2          Don Bosco College of Engineering Fatorda Goa   \n",
       "3              Pillai College of Engineering New Panvel   \n",
       "4                                  St Xavier's College    \n",
       "...                                                 ...   \n",
       "4874  thakur institute of management studies, career...   \n",
       "4875                 government polytechnic gandhinagar   \n",
       "4876          vishwakarma institute of technology, pune   \n",
       "4877                 mit academy of engineering ,alandi   \n",
       "4878                 a. c. patil college of engineering   \n",
       "\n",
       "     how did you come to know about this event?  \\\n",
       "0                                         Email   \n",
       "1                                        Others   \n",
       "2                                         Email   \n",
       "3                                         Email   \n",
       "4                                     Instagram   \n",
       "...                                         ...   \n",
       "4874                                   LinkedIn   \n",
       "4875                                        nan   \n",
       "4876                                        nan   \n",
       "4877                                        nan   \n",
       "4878                                        nan   \n",
       "\n",
       "     specify in \"others\" (how did you come to know about this event)  \\\n",
       "0                                                   NaN                \n",
       "1                                               College                \n",
       "2                                                   NaN                \n",
       "3                                                   NaN                \n",
       "4                                                   NaN                \n",
       "...                                                 ...                \n",
       "4874                                                NaN                \n",
       "4875                                                NaN                \n",
       "4876                                                NaN                \n",
       "4877                                                NaN                \n",
       "4878                                                NaN                \n",
       "\n",
       "     designation  year of graduation       city  cgpa  \\\n",
       "0       Students                2024      Patna   6.7   \n",
       "1       Students                2024   Amravati   8.2   \n",
       "2       Students                2023    Kunrool   6.5   \n",
       "3       Students                2025   Tirupati   8.7   \n",
       "4       Students                2024  Vijaywada   9.1   \n",
       "...          ...                 ...        ...   ...   \n",
       "4874    Students                2024    Jodhpur   6.9   \n",
       "4875    Students                2023    Jalgaon   6.5   \n",
       "4876    Students                2024      Thane   6.9   \n",
       "4877    Students                2024    Patiala   9.0   \n",
       "4878    Students                2025    Sangrur   7.2   \n",
       "\n",
       "      experience with python (months) family income  expected salary (lac)  \\\n",
       "0                                   7       7 Lakh+                      6   \n",
       "1                                   3      0-2 Lakh                      7   \n",
       "2                                   4      5-7 Lakh                      7   \n",
       "3                                   7      2-5 Lakh                      8   \n",
       "4                                   3      0-2 Lakh                     10   \n",
       "...                               ...           ...                    ...   \n",
       "4874                                6      0-2 Lakh                     15   \n",
       "4875                                6      0-2 Lakh                      8   \n",
       "4876                                5      0-2 Lakh                      7   \n",
       "4877                                3      0-2 Lakh                     23   \n",
       "4878                                8      0-2 Lakh                      9   \n",
       "\n",
       "     leadership- skills  \n",
       "0                   yes  \n",
       "1                    no  \n",
       "2                    no  \n",
       "3                    no  \n",
       "4                   yes  \n",
       "...                 ...  \n",
       "4874                yes  \n",
       "4875                 no  \n",
       "4876                 no  \n",
       "4877                yes  \n",
       "4878                yes  \n",
       "\n",
       "[4879 rows x 16 columns]"
      ]
     },
     "execution_count": 10,
     "metadata": {},
     "output_type": "execute_result"
    }
   ],
   "source": [
    "df_new['how did you come to know about this event?'] = df_new['how did you come to know about this event?'].astype(str)\n",
    "def clean_cell(cell):\n",
    "    if cell != np.NaN:\n",
    "        return cell.split(' | ')[0]\n",
    "    else:\n",
    "        return np.NaN\n",
    "df_new['how did you come to know about this event?'] = df_new['how did you come to know about this event?'].apply(clean_cell)\n",
    "df_new"
   ]
  },
  {
   "cell_type": "markdown",
   "id": "53b9e778-7d32-40dd-9430-757aa35c56e6",
   "metadata": {},
   "source": [
    "## CLEAING THE how did you come to know about this event COLUMN"
   ]
  },
  {
   "cell_type": "code",
   "execution_count": 11,
   "id": "aac34cea-955c-43f6-8fb7-e8860945f9da",
   "metadata": {},
   "outputs": [],
   "source": [
    "# now we will replace the others form the how did you come to know about this event? column by the corresponding values from this\n",
    "#specify in \"others\" (how did you come to know about this event) column\t"
   ]
  },
  {
   "cell_type": "code",
   "execution_count": 12,
   "id": "81666fd8-7151-4809-a32c-f5f1da5ac79b",
   "metadata": {},
   "outputs": [],
   "source": [
    "for i in range(df_new.shape[0]):\n",
    "    if df_new.loc[i, 'how did you come to know about this event?'] == 'Others':  # == is comparison operator\n",
    "        df_new.loc[i, 'how did you come to know about this event?'] = df_new['specify in \"others\" (how did you come to know about this event)'][i]\n",
    "    elif df_new.loc[i, 'how did you come to know about this event?'] == np.nan:\n",
    "        df_new.loc[i, 'how did you come to know about this event?'] = np.nan"
   ]
  },
  {
   "cell_type": "markdown",
   "id": "745254c6-9eb0-4c55-a385-f0b95620aa7e",
   "metadata": {},
   "source": [
    "## Replacing nan with highest frequency element"
   ]
  },
  {
   "cell_type": "code",
   "execution_count": 13,
   "id": "78a9bd6c-b593-4164-950f-098a30e9db85",
   "metadata": {},
   "outputs": [],
   "source": [
    "df_new['how did you come to know about this event?'] = df_new['how did you come to know about this event?'].replace({'nan' : 'Whatsapp'})\n",
    "df_new['how did you come to know about this event?'] = df_new['how did you come to know about this event?'].fillna('Whatsapp')"
   ]
  },
  {
   "cell_type": "markdown",
   "id": "25a0607d-a955-4363-95bb-352b8ba28a05",
   "metadata": {},
   "source": [
    "### Converting the college name to lowercase for easier analysis"
   ]
  },
  {
   "cell_type": "code",
   "execution_count": 14,
   "id": "960bab06-119f-4580-b0e1-760f40f56b94",
   "metadata": {},
   "outputs": [],
   "source": [
    "df_new['college name'] = df_new['college name'].str.lower()"
   ]
  },
  {
   "cell_type": "markdown",
   "id": "00f955cb-162d-4984-b983-5e8396dec64a",
   "metadata": {},
   "source": [
    "DROPPING THE specify in \"others\" (how did you come to know about this event) COLUMN AS NO NEED FOR FURTHER ANALYSIS"
   ]
  },
  {
   "cell_type": "code",
   "execution_count": 15,
   "id": "1b317567-c8c0-46ea-a1d6-8c99d114c8f1",
   "metadata": {},
   "outputs": [],
   "source": [
    "df_new = df_new.drop(columns = ['specify in \"others\" (how did you come to know about this event)'])"
   ]
  },
  {
   "cell_type": "code",
   "execution_count": 16,
   "id": "751294c2-1831-419b-a303-2aa451cfafa7",
   "metadata": {},
   "outputs": [
    {
     "data": {
      "text/plain": [
       "Index(['first name', 'email id', 'quantity', 'events', 'attendee status',\n",
       "       'college name', 'how did you come to know about this event?',\n",
       "       'designation', 'year of graduation', 'city', 'cgpa',\n",
       "       'experience with python (months)', 'family income',\n",
       "       'expected salary (lac)', 'leadership- skills'],\n",
       "      dtype='object')"
      ]
     },
     "execution_count": 16,
     "metadata": {},
     "output_type": "execute_result"
    }
   ],
   "source": [
    "df_new.columns"
   ]
  },
  {
   "cell_type": "code",
   "execution_count": 17,
   "id": "edd54c4b-df10-4439-a48f-99be3d4d9541",
   "metadata": {},
   "outputs": [
    {
     "data": {
      "text/plain": [
       "attendee status\n",
       "Attending    4879\n",
       "Name: count, dtype: int64"
      ]
     },
     "execution_count": 17,
     "metadata": {},
     "output_type": "execute_result"
    }
   ],
   "source": [
    "df_new['attendee status'] = df_new['attendee status'].replace('NAN', 'Attending')\n",
    "df_new['attendee status'].value_counts()"
   ]
  },
  {
   "cell_type": "code",
   "execution_count": 18,
   "id": "d2959ed8-2c33-44e4-b667-03050b40f459",
   "metadata": {},
   "outputs": [
    {
     "name": "stderr",
     "output_type": "stream",
     "text": [
      "C:\\Users\\TEJUS PAL\\AppData\\Local\\Temp\\ipykernel_8764\\3229334890.py:5: FutureWarning: Downcasting behavior in `replace` is deprecated and will be removed in a future version. To retain the old behavior, explicitly call `result.infer_objects(copy=False)`. To opt-in to the future behavior, set `pd.set_option('future.no_silent_downcasting', True)`\n",
      "  df_new['family_income_calculated'] = df_new['family income'].replace({\n"
     ]
    }
   ],
   "source": [
    "# creating a new column using the family income column\n",
    "\n",
    "# getting unique groups then replacing them - with the higher number.\n",
    "df_new['family income'].unique()\n",
    "df_new['family_income_calculated'] = df_new['family income'].replace({\n",
    "    '7 Lakh+' : 7,\n",
    "    '0-2 Lakh' : 2,\n",
    "    '5-7 Lakh' : 7,\n",
    "    '2-5 Lakh' : 5\n",
    "})\n"
   ]
  },
  {
   "cell_type": "code",
   "execution_count": 19,
   "id": "ce4c9de1-1d8a-471f-b051-805014d4545d",
   "metadata": {},
   "outputs": [
    {
     "name": "stderr",
     "output_type": "stream",
     "text": [
      "C:\\Users\\TEJUS PAL\\AppData\\Local\\Temp\\ipykernel_8764\\3585223952.py:6: SettingWithCopyWarning: \n",
      "A value is trying to be set on a copy of a slice from a DataFrame.\n",
      "Try using .loc[row_indexer,col_indexer] = value instead\n",
      "\n",
      "See the caveats in the documentation: https://pandas.pydata.org/pandas-docs/stable/user_guide/indexing.html#returning-a-view-versus-a-copy\n",
      "  df_two['first name'] = df_two['first name'].str.lower()\n"
     ]
    }
   ],
   "source": [
    "# now checking for the duplicates in the dataframe based of first name and emailid columns\n",
    "duplicates = df_new.duplicated(subset = ['first name', 'email id'])\n",
    "duplicates.sum() # total no of duplicates\n",
    "# now deleting these duplicates rows\n",
    "df_two = df_new.drop_duplicates(subset= ['first name', 'email id'])\n",
    "df_two['first name'] = df_two['first name'].str.lower()"
   ]
  },
  {
   "cell_type": "code",
   "execution_count": 20,
   "id": "183c1942-71d0-455e-b21d-04d87ab00aec",
   "metadata": {},
   "outputs": [],
   "source": [
    "index_values_to_delete = df_two[df_two['college name'] == 'na'].index\n",
    "df_two = df_two.drop(index_values_to_delete)"
   ]
  },
  {
   "cell_type": "code",
   "execution_count": 21,
   "id": "67570535-4959-44fc-9dc8-b222668675ef",
   "metadata": {},
   "outputs": [
    {
     "data": {
      "text/html": [
       "<div>\n",
       "<style scoped>\n",
       "    .dataframe tbody tr th:only-of-type {\n",
       "        vertical-align: middle;\n",
       "    }\n",
       "\n",
       "    .dataframe tbody tr th {\n",
       "        vertical-align: top;\n",
       "    }\n",
       "\n",
       "    .dataframe thead th {\n",
       "        text-align: right;\n",
       "    }\n",
       "</style>\n",
       "<table border=\"1\" class=\"dataframe\">\n",
       "  <thead>\n",
       "    <tr style=\"text-align: right;\">\n",
       "      <th></th>\n",
       "      <th>first name</th>\n",
       "      <th>email id</th>\n",
       "      <th>quantity</th>\n",
       "      <th>events</th>\n",
       "      <th>attendee status</th>\n",
       "      <th>college name</th>\n",
       "      <th>how did you come to know about this event?</th>\n",
       "      <th>designation</th>\n",
       "      <th>year of graduation</th>\n",
       "      <th>city</th>\n",
       "      <th>cgpa</th>\n",
       "      <th>experience with python (months)</th>\n",
       "      <th>family income</th>\n",
       "      <th>expected salary (lac)</th>\n",
       "      <th>leadership- skills</th>\n",
       "      <th>family_income_calculated</th>\n",
       "    </tr>\n",
       "  </thead>\n",
       "  <tbody>\n",
       "  </tbody>\n",
       "</table>\n",
       "</div>"
      ],
      "text/plain": [
       "Empty DataFrame\n",
       "Columns: [first name, email id, quantity, events, attendee status, college name, how did you come to know about this event?, designation, year of graduation, city, cgpa, experience with python (months), family income, expected salary (lac), leadership- skills, family_income_calculated]\n",
       "Index: []"
      ]
     },
     "execution_count": 21,
     "metadata": {},
     "output_type": "execute_result"
    }
   ],
   "source": [
    "df_two[df_two['college name'] == 'na']"
   ]
  },
  {
   "cell_type": "code",
   "execution_count": 22,
   "id": "7285f4dc-c0f3-4e85-afd4-c99cf7539a50",
   "metadata": {},
   "outputs": [],
   "source": [
    "cleaned_dataset = df_two.copy()\n",
    "cleaned_dataset.to_csv('cleaned_dataset.csv' , index = False)"
   ]
  },
  {
   "cell_type": "code",
   "execution_count": 23,
   "id": "563e3b4b-99f3-4c4d-88ec-6e761b2a50f6",
   "metadata": {},
   "outputs": [
    {
     "name": "stdout",
     "output_type": "stream",
     "text": [
      "first name                                    0\n",
      "email id                                      0\n",
      "quantity                                      0\n",
      "events                                        0\n",
      "attendee status                               0\n",
      "college name                                  0\n",
      "how did you come to know about this event?    0\n",
      "designation                                   0\n",
      "year of graduation                            0\n",
      "city                                          0\n",
      "cgpa                                          0\n",
      "experience with python (months)               0\n",
      "family income                                 0\n",
      "expected salary (lac)                         0\n",
      "leadership- skills                            0\n",
      "family_income_calculated                      0\n",
      "dtype: int64\n"
     ]
    }
   ],
   "source": [
    "final_testing = cleaned_dataset.isnull().sum()\n",
    "print(final_testing)"
   ]
  }
 ],
 "metadata": {
  "kernelspec": {
   "display_name": "Python 3 (ipykernel)",
   "language": "python",
   "name": "python3"
  },
  "language_info": {
   "codemirror_mode": {
    "name": "ipython",
    "version": 3
   },
   "file_extension": ".py",
   "mimetype": "text/x-python",
   "name": "python",
   "nbconvert_exporter": "python",
   "pygments_lexer": "ipython3",
   "version": "3.12.4"
  }
 },
 "nbformat": 4,
 "nbformat_minor": 5
}
